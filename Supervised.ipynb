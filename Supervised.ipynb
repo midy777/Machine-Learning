{
  "nbformat": 4,
  "nbformat_minor": 0,
  "metadata": {
    "colab": {
      "name": "Marina Irdayanti_IF-41-12_Supervised.ipynb",
      "provenance": [],
      "collapsed_sections": []
    },
    "kernelspec": {
      "name": "python3",
      "display_name": "Python 3"
    }
  },
  "cells": [
    {
      "cell_type": "markdown",
      "metadata": {
        "id": "KbUIeWcCzkhp"
      },
      "source": [
        "**NAMA : MARINA IRDAYANTI**\n",
        "\n",
        "**NIM  : 1301174319**\n",
        "\n",
        "**KELAS: IF-41-12**"
      ]
    },
    {
      "cell_type": "markdown",
      "metadata": {
        "id": "fd1XYZ1p14nA"
      },
      "source": [
        "# Dataset yang digunakan"
      ]
    },
    {
      "cell_type": "markdown",
      "metadata": {
        "id": "lKDnhDbI2h6P"
      },
      "source": [
        "Pada dataset “used_cars.csv”, klasifikasi fitur yang digunakan adalah “price” dan “year”. Price adalah harga kendaraan tersebut. Year adalah tahun kendaraan yang diproduksi atau digunakan. Kemudian,dua fitur ini akan digabungkan dengan kolom “state” dimana negara yang terdiri dari beberapa cakupan wilayah."
      ]
    },
    {
      "cell_type": "markdown",
      "metadata": {
        "id": "2QVQE_B8wPa5"
      },
      "source": [
        "Penggunaan Library\n",
        "\n"
      ]
    },
    {
      "cell_type": "code",
      "metadata": {
        "id": "RuuAD1S5dsSQ"
      },
      "source": [
        "import pandas as pd               #digunakan untuk dataset\n",
        "import seaborn as sns             #digunakan untuk visualisasi data\n",
        "import matplotlib.pyplot as plt   #digunakan untuk membuat plot\n",
        "import numpy as np                #digunakan untuk pengolahan angka\n",
        "%matplotlib inline"
      ],
      "execution_count": null,
      "outputs": []
    },
    {
      "cell_type": "markdown",
      "metadata": {
        "id": "aFGD9MhM128W"
      },
      "source": [
        "IMPORT FILE"
      ]
    },
    {
      "cell_type": "code",
      "metadata": {
        "id": "_UugRks3zXB2",
        "colab": {
          "resources": {
            "http://localhost:8080/nbextensions/google.colab/files.js": {
              "data": "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",
              "ok": true,
              "headers": [
                [
                  "content-type",
                  "application/javascript"
                ]
              ],
              "status": 200,
              "status_text": "OK"
            }
          },
          "base_uri": "https://localhost:8080/",
          "height": 74
        },
        "outputId": "33453be8-1ebf-4604-faee-bc48a6a87859"
      },
      "source": [
        "from google.colab import files\n",
        "uploaded= files.upload()"
      ],
      "execution_count": null,
      "outputs": [
        {
          "output_type": "display_data",
          "data": {
            "text/html": [
              "\n",
              "     <input type=\"file\" id=\"files-f3126607-a271-45c4-ac2d-e2f9a53303b0\" name=\"files[]\" multiple disabled />\n",
              "     <output id=\"result-f3126607-a271-45c4-ac2d-e2f9a53303b0\">\n",
              "      Upload widget is only available when the cell has been executed in the\n",
              "      current browser session. Please rerun this cell to enable.\n",
              "      </output>\n",
              "      <script src=\"/nbextensions/google.colab/files.js\"></script> "
            ],
            "text/plain": [
              "<IPython.core.display.HTML object>"
            ]
          },
          "metadata": {
            "tags": []
          }
        },
        {
          "output_type": "stream",
          "text": [
            "Saving used_cars.csv to used_cars.csv\n"
          ],
          "name": "stdout"
        }
      ]
    },
    {
      "cell_type": "code",
      "metadata": {
        "id": "anCWMYAFf9UL"
      },
      "source": [
        "dataset = pd.read_csv(\"used_cars.csv\")"
      ],
      "execution_count": null,
      "outputs": []
    },
    {
      "cell_type": "markdown",
      "metadata": {
        "id": "EmbMlBqG1522"
      },
      "source": [
        "Pengecekan Dataset"
      ]
    },
    {
      "cell_type": "code",
      "metadata": {
        "id": "BsG4f27D69y_",
        "colab": {
          "base_uri": "https://localhost:8080/",
          "height": 1000
        },
        "outputId": "983cf030-937f-4fd9-f283-464826aeba81"
      },
      "source": [
        "dataset.head(10)"
      ],
      "execution_count": null,
      "outputs": [
        {
          "output_type": "execute_result",
          "data": {
            "text/html": [
              "<div>\n",
              "<style scoped>\n",
              "    .dataframe tbody tr th:only-of-type {\n",
              "        vertical-align: middle;\n",
              "    }\n",
              "\n",
              "    .dataframe tbody tr th {\n",
              "        vertical-align: top;\n",
              "    }\n",
              "\n",
              "    .dataframe thead th {\n",
              "        text-align: right;\n",
              "    }\n",
              "</style>\n",
              "<table border=\"1\" class=\"dataframe\">\n",
              "  <thead>\n",
              "    <tr style=\"text-align: right;\">\n",
              "      <th></th>\n",
              "      <th>Unnamed: 0</th>\n",
              "      <th>id</th>\n",
              "      <th>url</th>\n",
              "      <th>region</th>\n",
              "      <th>region_url</th>\n",
              "      <th>price</th>\n",
              "      <th>year</th>\n",
              "      <th>manufacturer</th>\n",
              "      <th>model</th>\n",
              "      <th>condition</th>\n",
              "      <th>cylinders</th>\n",
              "      <th>fuel</th>\n",
              "      <th>odometer</th>\n",
              "      <th>title_status</th>\n",
              "      <th>transmission</th>\n",
              "      <th>vin</th>\n",
              "      <th>drive</th>\n",
              "      <th>size</th>\n",
              "      <th>type</th>\n",
              "      <th>paint_color</th>\n",
              "      <th>image_url</th>\n",
              "      <th>description</th>\n",
              "      <th>county</th>\n",
              "      <th>state</th>\n",
              "      <th>lat</th>\n",
              "      <th>long</th>\n",
              "    </tr>\n",
              "  </thead>\n",
              "  <tbody>\n",
              "    <tr>\n",
              "      <th>0</th>\n",
              "      <td>0</td>\n",
              "      <td>7034441763</td>\n",
              "      <td>https://saltlakecity.craigslist.org/cto/d/salt...</td>\n",
              "      <td>salt lake city</td>\n",
              "      <td>https://saltlakecity.craigslist.org</td>\n",
              "      <td>17899</td>\n",
              "      <td>2012.0</td>\n",
              "      <td>volkswagen</td>\n",
              "      <td>golf r</td>\n",
              "      <td>excellent</td>\n",
              "      <td>4 cylinders</td>\n",
              "      <td>gas</td>\n",
              "      <td>63500.0</td>\n",
              "      <td>clean</td>\n",
              "      <td>manual</td>\n",
              "      <td>WVWPF7AJ6CW316713</td>\n",
              "      <td>4wd</td>\n",
              "      <td>compact</td>\n",
              "      <td>hatchback</td>\n",
              "      <td>black</td>\n",
              "      <td>https://images.craigslist.org/00G0G_fTLDWM5Xyv...</td>\n",
              "      <td>PRICE REDUCED!   -Garage kept -Low Miles (63K)...</td>\n",
              "      <td>NaN</td>\n",
              "      <td>ut</td>\n",
              "      <td>40.7372</td>\n",
              "      <td>-111.858</td>\n",
              "    </tr>\n",
              "    <tr>\n",
              "      <th>1</th>\n",
              "      <td>1</td>\n",
              "      <td>7034440610</td>\n",
              "      <td>https://saltlakecity.craigslist.org/ctd/d/sand...</td>\n",
              "      <td>salt lake city</td>\n",
              "      <td>https://saltlakecity.craigslist.org</td>\n",
              "      <td>0</td>\n",
              "      <td>2016.0</td>\n",
              "      <td>ford</td>\n",
              "      <td>f-150</td>\n",
              "      <td>excellent</td>\n",
              "      <td>NaN</td>\n",
              "      <td>gas</td>\n",
              "      <td>10.0</td>\n",
              "      <td>clean</td>\n",
              "      <td>automatic</td>\n",
              "      <td>1FTMF1EP3GKF13544</td>\n",
              "      <td>4wd</td>\n",
              "      <td>NaN</td>\n",
              "      <td>NaN</td>\n",
              "      <td>NaN</td>\n",
              "      <td>https://images.craigslist.org/00v0v_7Cu0buIofU...</td>\n",
              "      <td>Drive it home today. Call (Or Text) us now !!C...</td>\n",
              "      <td>NaN</td>\n",
              "      <td>ut</td>\n",
              "      <td>40.5881</td>\n",
              "      <td>-111.884</td>\n",
              "    </tr>\n",
              "    <tr>\n",
              "      <th>2</th>\n",
              "      <td>2</td>\n",
              "      <td>7034440588</td>\n",
              "      <td>https://saltlakecity.craigslist.org/ctd/d/sand...</td>\n",
              "      <td>salt lake city</td>\n",
              "      <td>https://saltlakecity.craigslist.org</td>\n",
              "      <td>46463</td>\n",
              "      <td>2015.0</td>\n",
              "      <td>gmc</td>\n",
              "      <td>sierra 1500</td>\n",
              "      <td>excellent</td>\n",
              "      <td>NaN</td>\n",
              "      <td>gas</td>\n",
              "      <td>7554.0</td>\n",
              "      <td>clean</td>\n",
              "      <td>automatic</td>\n",
              "      <td>3GTU2WEC6FG228025</td>\n",
              "      <td>4wd</td>\n",
              "      <td>NaN</td>\n",
              "      <td>NaN</td>\n",
              "      <td>white</td>\n",
              "      <td>https://images.craigslist.org/01515_lPvJ9bfbdY...</td>\n",
              "      <td>Drive it home today. Call (Or Text) us now !!C...</td>\n",
              "      <td>NaN</td>\n",
              "      <td>ut</td>\n",
              "      <td>40.5881</td>\n",
              "      <td>-111.884</td>\n",
              "    </tr>\n",
              "    <tr>\n",
              "      <th>3</th>\n",
              "      <td>3</td>\n",
              "      <td>7034440546</td>\n",
              "      <td>https://saltlakecity.craigslist.org/ctd/d/sand...</td>\n",
              "      <td>salt lake city</td>\n",
              "      <td>https://saltlakecity.craigslist.org</td>\n",
              "      <td>0</td>\n",
              "      <td>2016.0</td>\n",
              "      <td>ford</td>\n",
              "      <td>f-150</td>\n",
              "      <td>excellent</td>\n",
              "      <td>NaN</td>\n",
              "      <td>gas</td>\n",
              "      <td>10.0</td>\n",
              "      <td>clean</td>\n",
              "      <td>automatic</td>\n",
              "      <td>1FTEX1EF6GKD25447</td>\n",
              "      <td>4wd</td>\n",
              "      <td>NaN</td>\n",
              "      <td>NaN</td>\n",
              "      <td>NaN</td>\n",
              "      <td>https://images.craigslist.org/00T0T_6Rjfp3NS4O...</td>\n",
              "      <td>Drive it home today. Call (Or Text) us now !!C...</td>\n",
              "      <td>NaN</td>\n",
              "      <td>ut</td>\n",
              "      <td>40.5881</td>\n",
              "      <td>-111.884</td>\n",
              "    </tr>\n",
              "    <tr>\n",
              "      <th>4</th>\n",
              "      <td>4</td>\n",
              "      <td>7034406932</td>\n",
              "      <td>https://saltlakecity.craigslist.org/ctd/d/evan...</td>\n",
              "      <td>salt lake city</td>\n",
              "      <td>https://saltlakecity.craigslist.org</td>\n",
              "      <td>49999</td>\n",
              "      <td>2018.0</td>\n",
              "      <td>ford</td>\n",
              "      <td>f-450</td>\n",
              "      <td>NaN</td>\n",
              "      <td>NaN</td>\n",
              "      <td>diesel</td>\n",
              "      <td>70150.0</td>\n",
              "      <td>clean</td>\n",
              "      <td>automatic</td>\n",
              "      <td>1FT8W4DT8GEA90427</td>\n",
              "      <td>4wd</td>\n",
              "      <td>NaN</td>\n",
              "      <td>pickup</td>\n",
              "      <td>white</td>\n",
              "      <td>https://images.craigslist.org/00W0W_8yIUwRBXXd...</td>\n",
              "      <td>2018 Ford F-350 F350 F 350 SD Lariat Crew Cab ...</td>\n",
              "      <td>NaN</td>\n",
              "      <td>ut</td>\n",
              "      <td>40.3744</td>\n",
              "      <td>-104.694</td>\n",
              "    </tr>\n",
              "    <tr>\n",
              "      <th>5</th>\n",
              "      <td>5</td>\n",
              "      <td>7034406582</td>\n",
              "      <td>https://saltlakecity.craigslist.org/ctd/d/evan...</td>\n",
              "      <td>salt lake city</td>\n",
              "      <td>https://saltlakecity.craigslist.org</td>\n",
              "      <td>13999</td>\n",
              "      <td>2009.0</td>\n",
              "      <td>ram</td>\n",
              "      <td>NaN</td>\n",
              "      <td>NaN</td>\n",
              "      <td>NaN</td>\n",
              "      <td>gas</td>\n",
              "      <td>120057.0</td>\n",
              "      <td>clean</td>\n",
              "      <td>automatic</td>\n",
              "      <td>1D3HV18P89S777871</td>\n",
              "      <td>4wd</td>\n",
              "      <td>NaN</td>\n",
              "      <td>pickup</td>\n",
              "      <td>silver</td>\n",
              "      <td>https://images.craigslist.org/00y0y_RR9x2lk7eh...</td>\n",
              "      <td>2009 RAM 1500 4WD Quad Cab 140.5\" ST\"     Offe...</td>\n",
              "      <td>NaN</td>\n",
              "      <td>ut</td>\n",
              "      <td>40.3744</td>\n",
              "      <td>-104.694</td>\n",
              "    </tr>\n",
              "    <tr>\n",
              "      <th>6</th>\n",
              "      <td>6</td>\n",
              "      <td>7034405619</td>\n",
              "      <td>https://saltlakecity.craigslist.org/ctd/d/evan...</td>\n",
              "      <td>salt lake city</td>\n",
              "      <td>https://saltlakecity.craigslist.org</td>\n",
              "      <td>34500</td>\n",
              "      <td>2017.0</td>\n",
              "      <td>ford</td>\n",
              "      <td>f-350</td>\n",
              "      <td>NaN</td>\n",
              "      <td>NaN</td>\n",
              "      <td>diesel</td>\n",
              "      <td>95484.0</td>\n",
              "      <td>clean</td>\n",
              "      <td>automatic</td>\n",
              "      <td>1FT8W3BT2HEE98744</td>\n",
              "      <td>4wd</td>\n",
              "      <td>NaN</td>\n",
              "      <td>pickup</td>\n",
              "      <td>white</td>\n",
              "      <td>https://images.craigslist.org/00k0k_lIBatiU90s...</td>\n",
              "      <td>2017 Ford Super Duty F-350 F350 F 350 SRW Crew...</td>\n",
              "      <td>NaN</td>\n",
              "      <td>ut</td>\n",
              "      <td>40.3744</td>\n",
              "      <td>-104.694</td>\n",
              "    </tr>\n",
              "    <tr>\n",
              "      <th>7</th>\n",
              "      <td>7</td>\n",
              "      <td>7034405349</td>\n",
              "      <td>https://saltlakecity.craigslist.org/ctd/d/evan...</td>\n",
              "      <td>salt lake city</td>\n",
              "      <td>https://saltlakecity.craigslist.org</td>\n",
              "      <td>14500</td>\n",
              "      <td>2007.0</td>\n",
              "      <td>gmc</td>\n",
              "      <td>sierra</td>\n",
              "      <td>NaN</td>\n",
              "      <td>NaN</td>\n",
              "      <td>gas</td>\n",
              "      <td>89340.0</td>\n",
              "      <td>clean</td>\n",
              "      <td>automatic</td>\n",
              "      <td>1GTGK13UX7F108498</td>\n",
              "      <td>4wd</td>\n",
              "      <td>NaN</td>\n",
              "      <td>pickup</td>\n",
              "      <td>NaN</td>\n",
              "      <td>https://images.craigslist.org/00202_jTNQzQVWZs...</td>\n",
              "      <td>2007 GMC Sierra 1500 SLE Crew Cab 4WD     Offe...</td>\n",
              "      <td>NaN</td>\n",
              "      <td>ut</td>\n",
              "      <td>40.3744</td>\n",
              "      <td>-104.694</td>\n",
              "    </tr>\n",
              "    <tr>\n",
              "      <th>8</th>\n",
              "      <td>8</td>\n",
              "      <td>7034404595</td>\n",
              "      <td>https://saltlakecity.craigslist.org/ctd/d/evan...</td>\n",
              "      <td>salt lake city</td>\n",
              "      <td>https://saltlakecity.craigslist.org</td>\n",
              "      <td>12500</td>\n",
              "      <td>2013.0</td>\n",
              "      <td>ford</td>\n",
              "      <td>f-250</td>\n",
              "      <td>NaN</td>\n",
              "      <td>NaN</td>\n",
              "      <td>gas</td>\n",
              "      <td>226031.0</td>\n",
              "      <td>clean</td>\n",
              "      <td>automatic</td>\n",
              "      <td>1FT7X2B63DEA44140</td>\n",
              "      <td>4wd</td>\n",
              "      <td>NaN</td>\n",
              "      <td>pickup</td>\n",
              "      <td>white</td>\n",
              "      <td>https://images.craigslist.org/00F0F_99lwfqrZWc...</td>\n",
              "      <td>2013 Ford F-250 F250 F 250 SD XLT 4WD     Offe...</td>\n",
              "      <td>NaN</td>\n",
              "      <td>ut</td>\n",
              "      <td>40.3744</td>\n",
              "      <td>-104.694</td>\n",
              "    </tr>\n",
              "    <tr>\n",
              "      <th>9</th>\n",
              "      <td>9</td>\n",
              "      <td>7034401857</td>\n",
              "      <td>https://saltlakecity.craigslist.org/ctd/d/evan...</td>\n",
              "      <td>salt lake city</td>\n",
              "      <td>https://saltlakecity.craigslist.org</td>\n",
              "      <td>34500</td>\n",
              "      <td>2012.0</td>\n",
              "      <td>ram</td>\n",
              "      <td>NaN</td>\n",
              "      <td>NaN</td>\n",
              "      <td>NaN</td>\n",
              "      <td>diesel</td>\n",
              "      <td>128153.0</td>\n",
              "      <td>clean</td>\n",
              "      <td>automatic</td>\n",
              "      <td>3C6UD5PL2CG168524</td>\n",
              "      <td>4wd</td>\n",
              "      <td>NaN</td>\n",
              "      <td>pickup</td>\n",
              "      <td>silver</td>\n",
              "      <td>https://images.craigslist.org/00a0a_1cDSDtUsLA...</td>\n",
              "      <td>2012 RAM 2500 4WD Mega Cab 160.5\" Laramie Long...</td>\n",
              "      <td>NaN</td>\n",
              "      <td>ut</td>\n",
              "      <td>40.3744</td>\n",
              "      <td>-104.694</td>\n",
              "    </tr>\n",
              "  </tbody>\n",
              "</table>\n",
              "</div>"
            ],
            "text/plain": [
              "   Unnamed: 0          id  ...      lat     long\n",
              "0           0  7034441763  ...  40.7372 -111.858\n",
              "1           1  7034440610  ...  40.5881 -111.884\n",
              "2           2  7034440588  ...  40.5881 -111.884\n",
              "3           3  7034440546  ...  40.5881 -111.884\n",
              "4           4  7034406932  ...  40.3744 -104.694\n",
              "5           5  7034406582  ...  40.3744 -104.694\n",
              "6           6  7034405619  ...  40.3744 -104.694\n",
              "7           7  7034405349  ...  40.3744 -104.694\n",
              "8           8  7034404595  ...  40.3744 -104.694\n",
              "9           9  7034401857  ...  40.3744 -104.694\n",
              "\n",
              "[10 rows x 26 columns]"
            ]
          },
          "metadata": {
            "tags": []
          },
          "execution_count": 32
        }
      ]
    },
    {
      "cell_type": "markdown",
      "metadata": {
        "id": "AuBnDM-q_Erj"
      },
      "source": [
        "# - Preprosessing\n",
        "\n",
        "---\n",
        "\n"
      ]
    },
    {
      "cell_type": "markdown",
      "metadata": {
        "id": "rb6XlVuP_V86"
      },
      "source": [
        "**Menghapus kolom yang tidak digunakan**"
      ]
    },
    {
      "cell_type": "code",
      "metadata": {
        "id": "KMM3HcpncDaO"
      },
      "source": [
        "dataset.dropna(subset = [\"year\"], inplace=True)"
      ],
      "execution_count": null,
      "outputs": []
    },
    {
      "cell_type": "markdown",
      "metadata": {
        "id": "K8gneyln2YwN"
      },
      "source": [
        "**Melakukan pengubahan pada isi kolom 'state' menjadi opsi angka**"
      ]
    },
    {
      "cell_type": "code",
      "metadata": {
        "id": "WXKmhVTxcML2"
      },
      "source": [
        "dataset['state'] = dataset['state'].str.replace(r'va', '1')\n",
        "dataset['state'] = dataset['state'].str.replace(r'ut', '2')\n",
        "dataset['state'] = dataset['state'].str.replace(r'vt', '3')\n",
        "dataset['state'] = dataset['state'].str.replace(r'wa', '4')"
      ],
      "execution_count": null,
      "outputs": []
    },
    {
      "cell_type": "markdown",
      "metadata": {
        "id": "TtCB8c0r3L0m"
      },
      "source": [
        "**Setelah mengubah menjadi 1,2,3,4 dan berupa tipe string, kemudian diubah menjadi tipe integer**"
      ]
    },
    {
      "cell_type": "code",
      "metadata": {
        "id": "Z2qkLBhA9ao7",
        "colab": {
          "base_uri": "https://localhost:8080/",
          "height": 241
        },
        "outputId": "0d1032d1-c6a2-4a85-ff34-6e91e03bd512"
      },
      "source": [
        "dataset.state = dataset.state.astype(int)\n",
        "dataset.state"
      ],
      "execution_count": null,
      "outputs": [
        {
          "output_type": "execute_result",
          "data": {
            "text/plain": [
              "0        2\n",
              "1        2\n",
              "2        2\n",
              "3        2\n",
              "4        2\n",
              "        ..\n",
              "19996    4\n",
              "19997    4\n",
              "19998    4\n",
              "19999    4\n",
              "20000    4\n",
              "Name: state, Length: 19989, dtype: int64"
            ]
          },
          "metadata": {
            "tags": []
          },
          "execution_count": 35
        }
      ]
    },
    {
      "cell_type": "markdown",
      "metadata": {
        "id": "M1dAkqFy3sC1"
      },
      "source": [
        "# Scaling fitur yang digunakan"
      ]
    },
    {
      "cell_type": "markdown",
      "metadata": {
        "id": "gPEZf38DL3c2"
      },
      "source": [
        "Menggunakan range 0 sampai 1 dengan minmaxscaler untuk normalisasi"
      ]
    },
    {
      "cell_type": "code",
      "metadata": {
        "id": "HHweJJvdUH_N"
      },
      "source": [
        "from sklearn.preprocessing import MinMaxScaler\n",
        "\n",
        "fitur_scaler = MinMaxScaler(feature_range=(0, 1))\n",
        "s = dataset[['price', 'year']]\n",
        "dataset[['price', 'year']] = fitur_scaler.fit_transform(s)"
      ],
      "execution_count": null,
      "outputs": []
    },
    {
      "cell_type": "code",
      "metadata": {
        "id": "4MXCH1moc6a6"
      },
      "source": [
        "ScaledDATA = dataset[['state','price','year']]"
      ],
      "execution_count": null,
      "outputs": []
    },
    {
      "cell_type": "code",
      "metadata": {
        "id": "_8R-k14dc_RV",
        "colab": {
          "base_uri": "https://localhost:8080/",
          "height": 423
        },
        "outputId": "4aba08c5-3be4-4f4c-a9b1-a4801665763b"
      },
      "source": [
        "ScaledDATA"
      ],
      "execution_count": null,
      "outputs": [
        {
          "output_type": "execute_result",
          "data": {
            "text/html": [
              "<div>\n",
              "<style scoped>\n",
              "    .dataframe tbody tr th:only-of-type {\n",
              "        vertical-align: middle;\n",
              "    }\n",
              "\n",
              "    .dataframe tbody tr th {\n",
              "        vertical-align: top;\n",
              "    }\n",
              "\n",
              "    .dataframe thead th {\n",
              "        text-align: right;\n",
              "    }\n",
              "</style>\n",
              "<table border=\"1\" class=\"dataframe\">\n",
              "  <thead>\n",
              "    <tr style=\"text-align: right;\">\n",
              "      <th></th>\n",
              "      <th>state</th>\n",
              "      <th>price</th>\n",
              "      <th>year</th>\n",
              "    </tr>\n",
              "  </thead>\n",
              "  <tbody>\n",
              "    <tr>\n",
              "      <th>0</th>\n",
              "      <td>2</td>\n",
              "      <td>0.000015</td>\n",
              "      <td>0.922330</td>\n",
              "    </tr>\n",
              "    <tr>\n",
              "      <th>1</th>\n",
              "      <td>2</td>\n",
              "      <td>0.000000</td>\n",
              "      <td>0.961165</td>\n",
              "    </tr>\n",
              "    <tr>\n",
              "      <th>2</th>\n",
              "      <td>2</td>\n",
              "      <td>0.000040</td>\n",
              "      <td>0.951456</td>\n",
              "    </tr>\n",
              "    <tr>\n",
              "      <th>3</th>\n",
              "      <td>2</td>\n",
              "      <td>0.000000</td>\n",
              "      <td>0.961165</td>\n",
              "    </tr>\n",
              "    <tr>\n",
              "      <th>4</th>\n",
              "      <td>2</td>\n",
              "      <td>0.000043</td>\n",
              "      <td>0.980583</td>\n",
              "    </tr>\n",
              "    <tr>\n",
              "      <th>...</th>\n",
              "      <td>...</td>\n",
              "      <td>...</td>\n",
              "      <td>...</td>\n",
              "    </tr>\n",
              "    <tr>\n",
              "      <th>19996</th>\n",
              "      <td>4</td>\n",
              "      <td>0.000043</td>\n",
              "      <td>0.961165</td>\n",
              "    </tr>\n",
              "    <tr>\n",
              "      <th>19997</th>\n",
              "      <td>4</td>\n",
              "      <td>0.000010</td>\n",
              "      <td>0.980583</td>\n",
              "    </tr>\n",
              "    <tr>\n",
              "      <th>19998</th>\n",
              "      <td>4</td>\n",
              "      <td>0.000000</td>\n",
              "      <td>0.990291</td>\n",
              "    </tr>\n",
              "    <tr>\n",
              "      <th>19999</th>\n",
              "      <td>4</td>\n",
              "      <td>0.000013</td>\n",
              "      <td>0.970874</td>\n",
              "    </tr>\n",
              "    <tr>\n",
              "      <th>20000</th>\n",
              "      <td>4</td>\n",
              "      <td>0.000031</td>\n",
              "      <td>0.990291</td>\n",
              "    </tr>\n",
              "  </tbody>\n",
              "</table>\n",
              "<p>19989 rows × 3 columns</p>\n",
              "</div>"
            ],
            "text/plain": [
              "       state     price      year\n",
              "0          2  0.000015  0.922330\n",
              "1          2  0.000000  0.961165\n",
              "2          2  0.000040  0.951456\n",
              "3          2  0.000000  0.961165\n",
              "4          2  0.000043  0.980583\n",
              "...      ...       ...       ...\n",
              "19996      4  0.000043  0.961165\n",
              "19997      4  0.000010  0.980583\n",
              "19998      4  0.000000  0.990291\n",
              "19999      4  0.000013  0.970874\n",
              "20000      4  0.000031  0.990291\n",
              "\n",
              "[19989 rows x 3 columns]"
            ]
          },
          "metadata": {
            "tags": []
          },
          "execution_count": 38
        }
      ]
    },
    {
      "cell_type": "markdown",
      "metadata": {
        "id": "PxQmOGZPMAKT"
      },
      "source": [
        "# Melakukan Hapus Outlier"
      ]
    },
    {
      "cell_type": "markdown",
      "metadata": {
        "id": "eGAX7GAOM5Gk"
      },
      "source": [
        "Untuk memastikan dataset tidak terjadi kesalahan penginputan data dan  pengambilan sampel"
      ]
    },
    {
      "cell_type": "code",
      "metadata": {
        "id": "0TDWFw3l9v4V"
      },
      "source": [
        "from scipy import stats\n",
        "from scipy.stats import zscore\n",
        "\n",
        "hasil_z = stats.zscore(ScaledDATA)\n",
        "\n",
        "# menghitung z-score dari \"ScaledDATA\" untuk menghapus data outliers \n",
        "\n",
        "abs_z_scores = np.abs(hasil_z)\n",
        "pilih_data = (abs_z_scores < 3).all(axis=1)\n",
        "NewData = ScaledDATA [pilih_data]\n",
        "\n",
        "# memindahkan isi dataframe ke array list\n",
        "\n",
        "Class = NewData[['price','year']]\n",
        "Position = NewData['state']"
      ],
      "execution_count": null,
      "outputs": []
    },
    {
      "cell_type": "code",
      "metadata": {
        "id": "wRS2E2cSlt_l"
      },
      "source": [
        "x = np.asarray(Class)\n",
        "y = np.asarray(Position)"
      ],
      "execution_count": null,
      "outputs": []
    },
    {
      "cell_type": "markdown",
      "metadata": {
        "id": "KMMuVFNE2JRR"
      },
      "source": [
        "# **Classification** K-Nearest Neighbor "
      ]
    },
    {
      "cell_type": "markdown",
      "metadata": {
        "id": "Yz7SIFWm3CJe"
      },
      "source": [
        "K-nearest neighbors atau knn adalah algoritma yang berfungsi untuk melakukan klasifikasi suatu data berdasarkan data pembelajaran (train data sets), yang diambil dari k tetangga terdekatnya (nearest neighbors). Dengan k merupakan banyaknya tetangga terdekat.\n",
        "\n",
        "K-nearest neighbors melakukan klasifikasi dengan proyeksi data pembelajaran pada ruang berdimensi banyak. Ruang ini dibagi menjadi bagian-bagian yang merepresentasikan kriteria data pembelajaran. Selain itu, memiliki kelebihan dimana sifatnya nonlinear dan mudah diimplementasikan\n"
      ]
    },
    {
      "cell_type": "markdown",
      "metadata": {
        "id": "ENlWBqtsDAsj"
      },
      "source": [
        "# Split Data"
      ]
    },
    {
      "cell_type": "markdown",
      "metadata": {
        "id": "txgwF2Zq-e3Q"
      },
      "source": [
        "**Melakukan prediksi dengan split data menggunakan perbandingan 0.8 dengan 0.2**"
      ]
    },
    {
      "cell_type": "code",
      "metadata": {
        "id": "ljZwqJyG-BKV"
      },
      "source": [
        "from sklearn.model_selection import train_test_split\n",
        "\n",
        "X_train, X_test, y_train, y_test = train_test_split(x, y, test_size=0.2, random_state=0) "
      ],
      "execution_count": null,
      "outputs": []
    },
    {
      "cell_type": "markdown",
      "metadata": {
        "id": "27eKFKqr-3LQ"
      },
      "source": [
        "# Training Data"
      ]
    },
    {
      "cell_type": "code",
      "metadata": {
        "id": "39hcH72D8uyW",
        "colab": {
          "base_uri": "https://localhost:8080/",
          "height": 73
        },
        "outputId": "8e8e0523-9f9e-45a8-82ce-9ae052c75a0e"
      },
      "source": [
        "from sklearn.neighbors import KNeighborsClassifier\n",
        "model_knn = KNeighborsClassifier(n_neighbors=1)\n",
        "model_knn.fit(X_train,y_train)"
      ],
      "execution_count": null,
      "outputs": [
        {
          "output_type": "execute_result",
          "data": {
            "text/plain": [
              "KNeighborsClassifier(algorithm='auto', leaf_size=30, metric='minkowski',\n",
              "                     metric_params=None, n_jobs=None, n_neighbors=1, p=2,\n",
              "                     weights='uniform')"
            ]
          },
          "metadata": {
            "tags": []
          },
          "execution_count": 42
        }
      ]
    },
    {
      "cell_type": "code",
      "metadata": {
        "id": "M81d05zo88zQ"
      },
      "source": [
        "prediksi = model_knn.predict(X_test)"
      ],
      "execution_count": null,
      "outputs": []
    },
    {
      "cell_type": "markdown",
      "metadata": {
        "id": "GLhuI29o_AYU"
      },
      "source": [
        "# Evaluasi pada klasifikasi"
      ]
    },
    {
      "cell_type": "markdown",
      "metadata": {
        "id": "-h9dlmfgBIU1"
      },
      "source": [
        "**Confusion Matrix**"
      ]
    },
    {
      "cell_type": "code",
      "metadata": {
        "id": "MmaBJuVq9BLv",
        "colab": {
          "base_uri": "https://localhost:8080/",
          "height": 92
        },
        "outputId": "147528f1-13d6-493e-e1ab-e63fe4a0ff7e"
      },
      "source": [
        "from sklearn.metrics import classification_report,confusion_matrix\n",
        "matrix=confusion_matrix(y_test,prediksi)\n",
        "print(matrix)"
      ],
      "execution_count": null,
      "outputs": [
        {
          "output_type": "stream",
          "text": [
            "[[1991   44  247  257]\n",
            " [  56   24   17   28]\n",
            " [ 286    5  229   55]\n",
            " [ 238   26   58  369]]\n"
          ],
          "name": "stdout"
        }
      ]
    },
    {
      "cell_type": "code",
      "metadata": {
        "id": "WLYiO1GW9GRV",
        "colab": {
          "base_uri": "https://localhost:8080/",
          "height": 223
        },
        "outputId": "0b5b45f9-08d8-4e95-8fec-7bdbaac18053"
      },
      "source": [
        "print(classification_report(y_test,prediksi))"
      ],
      "execution_count": null,
      "outputs": [
        {
          "output_type": "stream",
          "text": [
            "              precision    recall  f1-score   support\n",
            "\n",
            "           1       0.77      0.78      0.78      2539\n",
            "           2       0.24      0.19      0.21       125\n",
            "           3       0.42      0.40      0.41       575\n",
            "           4       0.52      0.53      0.53       691\n",
            "\n",
            "    accuracy                           0.66      3930\n",
            "   macro avg       0.49      0.48      0.48      3930\n",
            "weighted avg       0.66      0.66      0.66      3930\n",
            "\n"
          ],
          "name": "stdout"
        }
      ]
    },
    {
      "cell_type": "markdown",
      "metadata": {
        "id": "uQIlQypj_KN-"
      },
      "source": [
        "# Memilih 'k' dengan elbow method"
      ]
    },
    {
      "cell_type": "code",
      "metadata": {
        "id": "-ValI0449PDy"
      },
      "source": [
        "error_rate = []\n",
        "\n",
        "# Will take some time\n",
        "for i in range(1,60):\n",
        "    \n",
        "    model_knn = KNeighborsClassifier(n_neighbors=i)\n",
        "    model_knn.fit(X_train,y_train)\n",
        "    prediksi_i = model_knn.predict(X_test)\n",
        "    error_rate.append(np.mean(prediksi_i != y_test))"
      ],
      "execution_count": null,
      "outputs": []
    },
    {
      "cell_type": "code",
      "metadata": {
        "id": "NS9dh0v79UT_",
        "colab": {
          "base_uri": "https://localhost:8080/",
          "height": 433
        },
        "outputId": "b88db197-e339-4d45-9953-9a7eeb81f0b7"
      },
      "source": [
        "plt.figure(figsize=(10,6))\n",
        "plt.plot(range(1,60),error_rate,color='black', linestyle='dashed', marker='o',\n",
        "         markerfacecolor='yellow', markersize=8)\n",
        "plt.title('Tingkat Error vs. Hasil K', fontsize=20)\n",
        "plt.xlabel('K',fontsize=15)\n",
        "plt.ylabel('kesalahan klasifikasi',fontsize=15)"
      ],
      "execution_count": null,
      "outputs": [
        {
          "output_type": "execute_result",
          "data": {
            "text/plain": [
              "Text(0, 0.5, 'kesalahan klasifikasi')"
            ]
          },
          "metadata": {
            "tags": []
          },
          "execution_count": 47
        },
        {
          "output_type": "display_data",
          "data": {
            "image/png": "[encoded data removed]",
            "text/plain": [
              "<Figure size 720x432 with 1 Axes>"
            ]
          },
          "metadata": {
            "tags": [],
            "needs_background": "light"
          }
        }
      ]
    },
    {
      "cell_type": "markdown",
      "metadata": {
        "id": "7Z6Y5RcjUNPB"
      },
      "source": [
        "## Kesimpulan dan Analisis\n",
        "\n",
        "---\n",
        "\n",
        "Model dibentuk dengan K-Nearest Neighbor dan berupa data yang telah dilatih dan sudah diuji pada data testing, pengukuran performansi menerapkan confussion matrix dengan pengukuran akurasi, presisi, recall, dan F1 Score.\n",
        "\n",
        "Pada pengujian, dalam proses klasifikasi menunjukkan bahwa dari masalah awal yang diangkat adalah “price” dan  \"year\". Price adalah harga kendaraan tersebut. Year adalah tahun kendaraan yang diproduksi atau digunakan.\n",
        "\n",
        "Dapat diketahui dari hasil F1 Score adalah 0.48 karena, harga dapat memengaruhi year dimana tahun pada kendaraan tersebut baik itu dari produksi atau pemakaian. Hal itu terjadi karena tipe state atau negara yang ditempati oleh kendaraan dimana disesuaikan dengan harganya. Untuk itu, pengguna mobil seperti ini menyesuaikan seleranya dengan negara yang ditempatinya sebanding dengan harga tersebut. Oleh karena itu, maka akan sangat berpengaruh terhadap jumlah yang digunakan pada tiap tahunnya."
      ]
    }
  ]
}